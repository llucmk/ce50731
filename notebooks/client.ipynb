{
 "cells": [
  {
   "cell_type": "code",
   "execution_count": 138,
   "metadata": {},
   "outputs": [
    {
     "name": "stdout",
     "output_type": "stream",
     "text": [
      "{\n",
      "  \"probability\": 0.946892758043847,\n",
      "  \"species\": \"Gentoo\"\n",
      "}\n"
     ]
    }
   ],
   "source": [
    "!curl --request POST \"http://127.0.0.1:5000/predict/logistic_regression\" \\\n",
    "--header \"Content-Type: application/json\" \\\n",
    "--data-raw \"{\\\n",
    "    \\\"bill_length_mm\\\": 45.1,\\\n",
    "    \\\"bill_depth_mm\\\": 15.2,\\\n",
    "    \\\"flipper_length_mm\\\": 210.0,\\\n",
    "    \\\"body_mass_g\\\": 4500,\\\n",
    "    \\\"island\\\": \\\"Biscoe\\\",\\\n",
    "    \\\"sex\\\": \\\"Male\\\"\\\n",
    "}\""
   ]
  },
  {
   "cell_type": "code",
   "execution_count": 139,
   "metadata": {},
   "outputs": [
    {
     "name": "stdout",
     "output_type": "stream",
     "text": [
      "{\n",
      "  \"probability\": 0.873296257168004,\n",
      "  \"species\": \"Adelie\"\n",
      "}\n"
     ]
    }
   ],
   "source": [
    "!curl --request POST \"http://127.0.0.1:5000/predict/logistic_regression\" \\\n",
    "--header \"Content-Type: application/json\" \\\n",
    "--data-raw \"{\\\n",
    "    \\\"bill_length_mm\\\": 39.5,\\\n",
    "    \\\"bill_depth_mm\\\": 17.4,\\\n",
    "    \\\"flipper_length_mm\\\": 186.0,\\\n",
    "    \\\"body_mass_g\\\": 3800,\\\n",
    "    \\\"island\\\": \\\"Dream\\\",\\\n",
    "    \\\"sex\\\": \\\"Female\\\"\\\n",
    "}\""
   ]
  },
  {
   "cell_type": "code",
   "execution_count": 140,
   "metadata": {},
   "outputs": [
    {
     "name": "stdout",
     "output_type": "stream",
     "text": [
      "{\n",
      "  \"probability\": 1.0,\n",
      "  \"species\": \"Adelie\"\n",
      "}\n"
     ]
    }
   ],
   "source": [
    "!curl --request POST \"http://127.0.0.1:5000/predict/decision_tree\" \\\n",
    "--header \"Content-Type: application/json\" \\\n",
    "--data-raw \"{\\\n",
    "    \\\"bill_length_mm\\\": 42.0,\\\n",
    "    \\\"bill_depth_mm\\\": 18.0,\\\n",
    "    \\\"flipper_length_mm\\\": 200.0,\\\n",
    "    \\\"body_mass_g\\\": 4000,\\\n",
    "    \\\"island\\\": \\\"Torgersen\\\",\\\n",
    "    \\\"sex\\\": \\\"Female\\\"\\\n",
    "}\""
   ]
  },
  {
   "cell_type": "code",
   "execution_count": 141,
   "metadata": {},
   "outputs": [
    {
     "name": "stdout",
     "output_type": "stream",
     "text": [
      "{\n",
      "  \"probability\": 1.0,\n",
      "  \"species\": \"Adelie\"\n",
      "}\n"
     ]
    }
   ],
   "source": [
    "!curl --request POST \"http://127.0.0.1:5000/predict/decision_tree\" \\\n",
    "--header \"Content-Type: application/json\" \\\n",
    "--data-raw \"{\\\n",
    "    \\\"bill_length_mm\\\": 44.0,\\\n",
    "    \\\"bill_depth_mm\\\": 17.5,\\\n",
    "    \\\"flipper_length_mm\\\": 210.0,\\\n",
    "    \\\"body_mass_g\\\": 4200,\\\n",
    "    \\\"island\\\": \\\"Dream\\\",\\\n",
    "    \\\"sex\\\": \\\"Male\\\"\\\n",
    "}\""
   ]
  },
  {
   "cell_type": "code",
   "execution_count": 142,
   "metadata": {},
   "outputs": [
    {
     "name": "stdout",
     "output_type": "stream",
     "text": [
      "{\n",
      "  \"probability\": \"N/A\",\n",
      "  \"species\": \"Gentoo\"\n",
      "}\n"
     ]
    }
   ],
   "source": [
    "!curl --request POST \"http://127.0.0.1:5000/predict/svm\" \\\n",
    "--header \"Content-Type: application/json\" \\\n",
    "--data-raw \"{\\\n",
    "    \\\"bill_length_mm\\\": 50.0,\\\n",
    "    \\\"bill_depth_mm\\\": 15.0,\\\n",
    "    \\\"flipper_length_mm\\\": 220.0,\\\n",
    "    \\\"body_mass_g\\\": 5000,\\\n",
    "    \\\"island\\\": \\\"Biscoe\\\",\\\n",
    "    \\\"sex\\\": \\\"Male\\\"\\\n",
    "}\""
   ]
  },
  {
   "cell_type": "code",
   "execution_count": 143,
   "metadata": {},
   "outputs": [
    {
     "name": "stdout",
     "output_type": "stream",
     "text": [
      "{\n",
      "  \"probability\": \"N/A\",\n",
      "  \"species\": \"Gentoo\"\n",
      "}\n"
     ]
    }
   ],
   "source": [
    "!curl --request POST \"http://127.0.0.1:5000/predict/svm\" \\\n",
    "--header \"Content-Type: application/json\" \\\n",
    "--data-raw \"{\\\n",
    "    \\\"bill_length_mm\\\": 48.0,\\\n",
    "    \\\"bill_depth_mm\\\": 16.0,\\\n",
    "    \\\"flipper_length_mm\\\": 215.0,\\\n",
    "    \\\"body_mass_g\\\": 4900,\\\n",
    "    \\\"island\\\": \\\"Biscoe\\\",\\\n",
    "    \\\"sex\\\": \\\"Male\\\"\\\n",
    "}\""
   ]
  },
  {
   "cell_type": "code",
   "execution_count": 144,
   "metadata": {},
   "outputs": [
    {
     "name": "stdout",
     "output_type": "stream",
     "text": [
      "{\n",
      "  \"probability\": 1.0,\n",
      "  \"species\": \"Adelie\"\n",
      "}\n"
     ]
    }
   ],
   "source": [
    "!curl --request POST \"http://127.0.0.1:5000/predict/knn\" \\\n",
    "--header \"Content-Type: application/json\" \\\n",
    "--data-raw \"{\\\n",
    "    \\\"bill_length_mm\\\": 38.0,\\\n",
    "    \\\"bill_depth_mm\\\": 17.0,\\\n",
    "    \\\"flipper_length_mm\\\": 180.0,\\\n",
    "    \\\"body_mass_g\\\": 3500,\\\n",
    "    \\\"island\\\": \\\"Dream\\\",\\\n",
    "    \\\"sex\\\": \\\"Female\\\"\\\n",
    "}\""
   ]
  },
  {
   "cell_type": "code",
   "execution_count": 145,
   "metadata": {},
   "outputs": [
    {
     "name": "stdout",
     "output_type": "stream",
     "text": [
      "{\n",
      "  \"probability\": 1.0,\n",
      "  \"species\": \"Adelie\"\n",
      "}\n"
     ]
    }
   ],
   "source": [
    "!curl --request POST \"http://127.0.0.1:5000/predict/knn\" \\\n",
    "--header \"Content-Type: application/json\" \\\n",
    "--data-raw \"{\\\n",
    "    \\\"bill_length_mm\\\": 37.0,\\\n",
    "    \\\"bill_depth_mm\\\": 16.5,\\\n",
    "    \\\"flipper_length_mm\\\": 175.0,\\\n",
    "    \\\"body_mass_g\\\": 3400,\\\n",
    "    \\\"island\\\": \\\"Dream\\\",\\\n",
    "    \\\"sex\\\": \\\"Female\\\"\\\n",
    "}\""
   ]
  }
 ],
 "metadata": {
  "kernelspec": {
   "display_name": ".venv",
   "language": "python",
   "name": "python3"
  },
  "language_info": {
   "codemirror_mode": {
    "name": "ipython",
    "version": 3
   },
   "file_extension": ".py",
   "mimetype": "text/x-python",
   "name": "python",
   "nbconvert_exporter": "python",
   "pygments_lexer": "ipython3",
   "version": "3.12.7"
  }
 },
 "nbformat": 4,
 "nbformat_minor": 2
}
